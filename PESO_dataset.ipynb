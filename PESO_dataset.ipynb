{
  "cells": [
    {
      "cell_type": "markdown",
      "metadata": {
        "id": "view-in-github",
        "colab_type": "text"
      },
      "source": [
        "<a href=\"https://colab.research.google.com/github/Nerikoutchala/Nerikoutchala/blob/main/PESO_dataset.ipynb\" target=\"_parent\"><img src=\"https://colab.research.google.com/assets/colab-badge.svg\" alt=\"Open In Colab\"/></a>"
      ]
    },
    {
      "cell_type": "markdown",
      "id": "71b20b3a",
      "metadata": {
        "id": "71b20b3a"
      },
      "source": [
        "### Step 1: Importing libraries"
      ]
    },
    {
      "cell_type": "code",
      "source": [
        "from google.colab import drive\n",
        "drive.mount('/content/drive')"
      ],
      "metadata": {
        "colab": {
          "base_uri": "https://localhost:8080/"
        },
        "id": "n1Bw3G05_W2A",
        "outputId": "6b01acfa-7459-427e-cbee-be0b9e8c3804"
      },
      "id": "n1Bw3G05_W2A",
      "execution_count": 1,
      "outputs": [
        {
          "output_type": "stream",
          "name": "stdout",
          "text": [
            "Mounted at /content/drive\n"
          ]
        }
      ]
    },
    {
      "cell_type": "code",
      "execution_count": 25,
      "id": "d4a4a1be",
      "metadata": {
        "id": "d4a4a1be"
      },
      "outputs": [],
      "source": [
        "import torch\n",
        "import torch.nn as nn\n",
        "import torch.optim as optim\n",
        "from torch.utils.data import Dataset, DataLoader\n",
        "from torchvision.datasets import ImageFolder\n",
        "from torchvision import transforms\n",
        "import matplotlib.pyplot as plt\n",
        "import torchvision.transforms.functional as TF"
      ]
    },
    {
      "cell_type": "markdown",
      "id": "d2f6c2af",
      "metadata": {
        "id": "d2f6c2af"
      },
      "source": [
        "### Step 2: Defining the U-Net model"
      ]
    },
    {
      "cell_type": "code",
      "execution_count": 26,
      "id": "d02b9e35",
      "metadata": {
        "id": "d02b9e35"
      },
      "outputs": [],
      "source": [
        "class UNet(nn.Module):\n",
        "    def __init__(self):\n",
        "        super(UNet, self).__init__()\n",
        "\n",
        "        self.down_conv1 = nn.Sequential(\n",
        "            nn.Conv2d(3, 64, kernel_size=3, padding=1),\n",
        "            nn.ReLU(),\n",
        "            nn.Conv2d(64, 64, kernel_size=3, padding=1),\n",
        "            nn.ReLU()\n",
        "        )\n",
        "\n",
        "        self.down_conv2 = nn.Sequential(\n",
        "            nn.MaxPool2d(kernel_size=2, stride=2),\n",
        "            nn.Conv2d(64, 128, kernel_size=3, padding=1),\n",
        "            nn.ReLU(),\n",
        "            nn.Conv2d(128, 128, kernel_size=3, padding=1),\n",
        "            nn.ReLU()\n",
        "        )\n",
        "\n",
        "        self.down_conv3 = nn.Sequential(\n",
        "            nn.MaxPool2d(kernel_size=2, stride=2),\n",
        "            nn.Conv2d(128, 256, kernel_size=3, padding=1),\n",
        "            nn.ReLU(),\n",
        "            nn.Conv2d(256, 256, kernel_size=3, padding=1),\n",
        "            nn.ReLU()\n",
        "        )\n",
        "\n",
        "        self.down_conv4 = nn.Sequential(\n",
        "            nn.MaxPool2d(kernel_size=2, stride=2),\n",
        "            nn.Conv2d(256, 512, kernel_size=3, padding=1),\n",
        "            nn.ReLU(),\n",
        "            nn.Conv2d(512, 512, kernel_size=3, padding=1),\n",
        "            nn.ReLU()\n",
        "        )\n",
        "\n",
        "        self.up_conv1 = nn.Sequential(\n",
        "            nn.ConvTranspose2d(512, 256, kernel_size=2, stride=2),\n",
        "            nn.ReLU(),\n",
        "            nn.Conv2d(512, 256, kernel_size=3, padding=1),\n",
        "            nn.ReLU(),\n",
        "            nn.Conv2d(256, 256, kernel_size=3, padding=1),\n",
        "            nn.ReLU()\n",
        "        )\n",
        "\n",
        "        self.up_conv2 = nn.Sequential(\n",
        "            nn.ConvTranspose2d(256, 128, kernel_size=2, stride=2),\n",
        "            nn.ReLU(),\n",
        "            nn.Conv2d(256, 128, kernel_size=3, padding=1),\n",
        "            nn.ReLU(),\n",
        "            nn.Conv2d(128, 128, kernel_size=3, padding=1),\n",
        "            nn.ReLU()\n",
        "        )\n",
        "\n",
        "        self.up_conv3 = nn.Sequential(\n",
        "            nn.ConvTranspose2d(128, 64, kernel_size=2, stride=2),\n",
        "            nn.ReLU(),\n",
        "            nn.Conv2d(128, 64, kernel_size=3, padding=1),\n",
        "            nn.ReLU(),\n",
        "            nn.Conv2d(64, 64, kernel_size=3, padding=1),\n",
        "            nn.ReLU()\n",
        "        )\n",
        "\n",
        "        self.final_conv = nn.Conv2d(64, 1, kernel_size=1)\n",
        "\n",
        "    def forward(self, x):\n",
        "        x1 = self.down_conv1(x)\n",
        "        x2 = self.down_conv2(x1)\n",
        "        x3 = self.down_conv3(x2)\n",
        "        x4 = self.down_conv4(x3)\n",
        "\n",
        "        y = self.up_conv1(x4)\n",
        "        y = torch.cat([x3, y], dim=1)\n",
        "        y = self.up_conv2(y)\n",
        "        y = torch.cat([x2, y], dim=1)\n",
        "        y = self.up_conv3(y)\n",
        "        y = torch.cat([x1, y], dim=1)\n",
        "        y = self.final_conv(y)\n",
        "\n",
        "        return y"
      ]
    },
    {
      "cell_type": "markdown",
      "id": "cbeb0cc7",
      "metadata": {
        "id": "cbeb0cc7"
      },
      "source": [
        "### Step 3: Defining the loss function and optimizer"
      ]
    },
    {
      "cell_type": "code",
      "execution_count": 27,
      "id": "233876f7",
      "metadata": {
        "id": "233876f7"
      },
      "outputs": [],
      "source": [
        "model = UNet()\n",
        "criterion = nn.BCEWithLogitsLoss()\n",
        "optimizer = optim.Adam(model.parameters(), lr=0.001)"
      ]
    },
    {
      "cell_type": "markdown",
      "id": "574e6172",
      "metadata": {
        "id": "574e6172"
      },
      "source": [
        "### Step 4: Defining the data loader"
      ]
    },
    {
      "cell_type": "code",
      "execution_count": null,
      "id": "104303fd",
      "metadata": {
        "id": "104303fd"
      },
      "outputs": [],
      "source": [
        "class MyDataset(Dataset):\n",
        "    def __init__(self, dataset, targets, transform=None):\n",
        "        self.dataset = dataset\n",
        "        self.targets = targets\n",
        "        self.transform = transform\n",
        "\n",
        "    def __len__(self):\n",
        "        return len(self.dataset)\n",
        "\n",
        "    def __getitem__(self, idx):\n",
        "        img, _ = self.dataset[idx]\n",
        "        target = self.targets[idx]\n",
        "        \n",
        "        if self.transform:\n",
        "            img = self.transform(img)\n",
        "\n",
        "        return img, target\n",
        "\n",
        "    \n",
        "    \n",
        "data_dir = \"/content/drive/MyDrive/peso/\"\n",
        "\n",
        "\n",
        "# Define the transforms to be applied on the images\n",
        "transform = transforms.Compose([\n",
        "    transforms.Resize((256, 256)),\n",
        "    transforms.ToTensor()\n",
        "])\n",
        "\n",
        "\n",
        "\n",
        "\n",
        "# Load the dataset using ImageFolder\n",
        "dataset = ImageFolder(data_dir, transform=transform)\n",
        "\n",
        "# Split the dataset into train, validation, and test sets\n",
        "train_size = int(0.8 * len(dataset))\n",
        "val_size = int(0.1 * len(dataset))\n",
        "test_size = len(dataset) - train_size - val_size\n",
        "\n",
        "train_dataset, val_dataset, test_dataset = torch.utils.data.random_split(\n",
        "    dataset, [train_size, val_size, test_size])\n",
        "\n",
        "\n",
        "#train_loader = DataLoader(train_dataset, batch_size=32, shuffle=True)\n",
        "#val_loader = DataLoader(val_dataset, batch_size=32, shuffle=False)\n",
        "#test_loader = DataLoader(test_dataset, batch_size=32, shuffle=False)\n",
        "\n",
        "# Define the data loaders\n",
        "train_dataset = ImageFolder(data_dir, transform=transforms.ToTensor())\n",
        "train_loader = DataLoader(train_dataset, batch_size=32, shuffle=True)\n",
        "\n",
        "# Create the MyDataset objects\n",
        "train_dataset = MyDataset(train_dataset, train_dataset.targets, transform=transforms.ToTensor())\n",
        "val_dataset = MyDataset(val_dataset.dataset, val_dataset.dataset.targets, transform=transforms.ToTensor())\n",
        "test_dataset = MyDataset(test_dataset.dataset, test_dataset.dataset.targets, transform=transforms.ToTensor())\n",
        "\n",
        "# Define the data loaders for the MyDataset objects\n",
        "train_loader = DataLoader(train_dataset, batch_size=32, shuffle=True)\n",
        "val_loader = DataLoader(val_dataset, batch_size=32, shuffle=False)\n",
        "test_loader = DataLoader(test_dataset, batch_size=32, shuffle=False)\n",
        "\n",
        "\n",
        "\n",
        "\n",
        "# Get an example batch of data\n",
        "x, y = next(iter(train_loader))\n",
        "\n",
        "# Print the shape of the input tensor\n",
        "print(x.shape)\n",
        "\n",
        "# Print the shape of the label tensor\n",
        "print(y.shape)"
      ]
    },
    {
      "cell_type": "markdown",
      "id": "a75f3747",
      "metadata": {
        "id": "a75f3747"
      },
      "source": [
        "### Step 5: Training the model"
      ]
    },
    {
      "cell_type": "code",
      "execution_count": null,
      "id": "9b9bfe05",
      "metadata": {
        "id": "9b9bfe05"
      },
      "outputs": [],
      "source": [
        "epochs = 10\n",
        "\n",
        "for epoch in range(epochs):\n",
        "    train_loss = 0.0\n",
        "    val_loss = 0.0\n",
        "\n",
        "    model.train()\n",
        "    for x, y in train_loader:\n",
        "        optimizer.zero_grad()\n",
        "\n",
        "        y_pred = model(x)\n",
        "        loss = criterion(y_pred, y)\n",
        "\n",
        "        loss.backward()\n",
        "        optimizer.step()\n",
        "\n",
        "        train_loss += loss.item() * x.size(0)\n",
        "\n",
        "    model.eval()\n",
        "    with torch.no_grad():\n",
        "        for x, y in val_loader:\n",
        "            y_pred = model(x)\n",
        "            loss = criterion(y_pred, y)\n",
        "\n",
        "            val_loss += loss.item() * x.size(0)\n",
        "\n",
        "    train_loss /= len(train_loader.dataset)\n",
        "    val_loss /= len(val_loader.dataset)\n",
        "\n",
        "    print(f\"Epoch {epoch+1}, Train Loss: {train_loss:.4f}, Val Loss: {val_loss:.4f}\")"
      ]
    },
    {
      "cell_type": "markdown",
      "id": "06c1b528",
      "metadata": {
        "id": "06c1b528"
      },
      "source": [
        "### Step 6: Testing the model"
      ]
    },
    {
      "cell_type": "code",
      "execution_count": null,
      "id": "9507cbb9",
      "metadata": {
        "id": "9507cbb9"
      },
      "outputs": [],
      "source": [
        "model.eval()\n",
        "with torch.no_grad():\n",
        "    for x, y in test_loader:\n",
        "        y_pred = model(x)\n",
        "        loss = criterion(y_pred, y)\n",
        "\n",
        "        print(f\"Test Loss: {loss.item():.4f}\")"
      ]
    },
    {
      "cell_type": "code",
      "execution_count": null,
      "id": "4385ac40",
      "metadata": {
        "id": "4385ac40"
      },
      "outputs": [],
      "source": []
    }
  ],
  "metadata": {
    "kernelspec": {
      "display_name": "Python 3 (ipykernel)",
      "language": "python",
      "name": "python3"
    },
    "language_info": {
      "codemirror_mode": {
        "name": "ipython",
        "version": 3
      },
      "file_extension": ".py",
      "mimetype": "text/x-python",
      "name": "python",
      "nbconvert_exporter": "python",
      "pygments_lexer": "ipython3",
      "version": "3.9.12"
    },
    "colab": {
      "provenance": [],
      "toc_visible": true,
      "include_colab_link": true
    }
  },
  "nbformat": 4,
  "nbformat_minor": 5
}